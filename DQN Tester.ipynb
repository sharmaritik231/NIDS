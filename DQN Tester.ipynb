{
 "cells": [
  {
   "cell_type": "markdown",
   "id": "e5088c54-596e-4ac7-8e08-1d7891ae18b5",
   "metadata": {},
   "source": [
    "## DQN Tester"
   ]
  },
  {
   "cell_type": "code",
   "execution_count": 1,
   "id": "d7963ab3-22f0-433d-99f4-03006032630d",
   "metadata": {},
   "outputs": [],
   "source": [
    "import torch\n",
    "import numpy as np\n",
    "import pandas as pd\n",
    "import seaborn as sns\n",
    "import matplotlib.pyplot as plt"
   ]
  },
  {
   "cell_type": "code",
   "execution_count": 2,
   "id": "64555d1f-d035-448d-908c-e4a4ae932225",
   "metadata": {},
   "outputs": [],
   "source": [
    "from torch import nn\n",
    "from torch.nn import functional as F\n",
    "from sklearn.metrics import confusion_matrix\n",
    "from sklearn.metrics import accuracy_score, f1_score, precision_score, recall_score\n",
    "from collections import Counter"
   ]
  },
  {
   "cell_type": "code",
   "execution_count": 3,
   "id": "5ade49a6-cbe9-47e6-8535-330cd54418bd",
   "metadata": {},
   "outputs": [],
   "source": [
    "my_device = \"cuda\" if torch.cuda.is_available() else \"cpu\""
   ]
  },
  {
   "cell_type": "code",
   "execution_count": 4,
   "id": "322bf09c-6c28-4636-bc1b-43e3552bea8b",
   "metadata": {},
   "outputs": [],
   "source": [
    "class DNN(nn.Module):\n",
    "    def __init__(self, input_units, output_units):\n",
    "        super(DNN, self).__init__()\n",
    "        self.layer1 = nn.Linear(input_units, 100, dtype=torch.float64, device=my_device)\n",
    "        self.layer2 = nn.Linear(100, 100, dtype=torch.float64, device=my_device)\n",
    "        self.layer3 = nn.Linear(100, output_units, dtype=torch.float64, device=my_device)\n",
    "\n",
    "    def forward(self, x):\n",
    "        hidden1 = F.relu(self.layer1(x))\n",
    "        hidden2 = F.relu(self.layer2(hidden1))\n",
    "        return F.softmax(self.layer3(hidden2), dim=-1)"
   ]
  },
  {
   "cell_type": "code",
   "execution_count": 5,
   "id": "188080e0-aad6-4aa1-bc39-c16e2c67fa0b",
   "metadata": {},
   "outputs": [],
   "source": [
    "class DQNTester:\n",
    "    def __init__(self, features: pd.DataFrame, label: str, model_pth):\n",
    "        self.df_x = features\n",
    "        self.y = label['class']\n",
    "        self.model_path = model_pth\n",
    "        self.data = torch.from_numpy(self.df_x.values).to(my_device)\n",
    "        self.model = self.load_model()\n",
    "        self.preds = torch.argmax(self.model(self.data), axis=1)\n",
    "        self.preds = self.preds.cpu().numpy() if my_device==\"cuda\" else self.preds\n",
    "\n",
    "    def load_model(self):\n",
    "        check_point = torch.load(self.model_path)\n",
    "        model = DNN(self.df_x.shape[1], self.y.nunique())\n",
    "        model.load_state_dict(check_point[\"state_dict\"])\n",
    "        return model\n",
    "\n",
    "    def get_weighted_accuracy(self):\n",
    "        class_accuracies = []\n",
    "        supports = []\n",
    "        for class_ in self.y.unique():\n",
    "            idx = np.where(self.y == class_)\n",
    "            class_accuracy = accuracy_score(self.y[idx[0]], self.preds[idx[0]])\n",
    "            class_accuracies.append(class_accuracy)\n",
    "            supports.append(len(idx[0]))\n",
    "\n",
    "        class_accuracies = np.array(class_accuracies)\n",
    "        supports = np.array(supports)\n",
    "        return np.average(class_accuracies, weights=supports)\n",
    "\n",
    "    def generate_confusion_matrix(self):\n",
    "        cm = pd.DataFrame(data=confusion_matrix(self.y, self.preds), \n",
    "                          index = ['U2R', 'R2L', 'Probe', 'DoS', 'Normal'],\n",
    "                          columns = ['U2R', 'R2L', 'Probe', 'DoS', 'Normal'])\n",
    "\n",
    "        plt.figure(figsize=(5, 4))\n",
    "        sns.heatmap(data=cm, annot=True, fmt=\".0f\", cmap='Blues')\n",
    "        plt.title(\"Confusion Matrix\", weight='bold')\n",
    "        plt.xlabel(\"Predicted Labels\", weight='bold')\n",
    "        plt.ylabel(\"True Labels\", weight='bold')\n",
    "        plt.savefig(\"matrix.png\")\n",
    "        plt.show()\n",
    "\n",
    "    def generate_evaluation_metrics(self):\n",
    "        accuracy = accuracy_score(self.y, self.preds)\n",
    "        weighted_accuracy = self.get_weighted_accuracy()\n",
    "\n",
    "        # Macro: Average of F1 scores of each class!\n",
    "        macro_f1 = f1_score(self.y, self.preds, average='macro')\n",
    "        macro_precision = precision_score(self.y, self.preds, average='macro')\n",
    "        macro_recall = recall_score(self.y, self.preds, average='macro')\n",
    "\n",
    "        # Weighted: Weighted Average of F1 Scores of each class!\n",
    "        weighted_f1 = f1_score(self.y, self.preds, average='weighted')\n",
    "        weighted_precision = precision_score(self.y, self.preds, average='weighted')\n",
    "        weighted_recall = recall_score(self.y, self.preds, average='weighted')\n",
    "        \n",
    "        metrics = np.array([[accuracy, macro_precision, macro_recall, macro_f1], \n",
    "                            [weighted_accuracy, weighted_precision, weighted_recall, weighted_f1]])\n",
    "\n",
    "        results = pd.DataFrame(data=metrics, index = ['Macro', 'Weighted'],\n",
    "                               columns=['Accuracy', 'Precision', \"Recall\", 'F1 Score'])\n",
    "        \n",
    "        return results"
   ]
  },
  {
   "cell_type": "code",
   "execution_count": 6,
   "id": "66017729-b4f8-4f12-bae3-cf2b0b4d12d5",
   "metadata": {},
   "outputs": [],
   "source": [
    "X_test = pd.read_csv(\"X_test.csv\")\n",
    "y_test = pd.read_csv(\"y_test.csv\")\n",
    "tester = DQNTester(features=X_test, label=y_test, model_pth=\"Models/DQN.pth\")"
   ]
  },
  {
   "cell_type": "code",
   "execution_count": 7,
   "id": "a270e2e6-c306-4c31-bcd2-36439ab3d509",
   "metadata": {},
   "outputs": [
    {
     "data": {
      "text/html": [
       "<div>\n",
       "<style scoped>\n",
       "    .dataframe tbody tr th:only-of-type {\n",
       "        vertical-align: middle;\n",
       "    }\n",
       "\n",
       "    .dataframe tbody tr th {\n",
       "        vertical-align: top;\n",
       "    }\n",
       "\n",
       "    .dataframe thead th {\n",
       "        text-align: right;\n",
       "    }\n",
       "</style>\n",
       "<table border=\"1\" class=\"dataframe\">\n",
       "  <thead>\n",
       "    <tr style=\"text-align: right;\">\n",
       "      <th></th>\n",
       "      <th>Accuracy</th>\n",
       "      <th>Precision</th>\n",
       "      <th>Recall</th>\n",
       "      <th>F1 Score</th>\n",
       "    </tr>\n",
       "  </thead>\n",
       "  <tbody>\n",
       "    <tr>\n",
       "      <th>Macro</th>\n",
       "      <td>0.976843</td>\n",
       "      <td>0.751594</td>\n",
       "      <td>0.698547</td>\n",
       "      <td>0.718992</td>\n",
       "    </tr>\n",
       "    <tr>\n",
       "      <th>Weighted</th>\n",
       "      <td>0.976843</td>\n",
       "      <td>0.977868</td>\n",
       "      <td>0.976843</td>\n",
       "      <td>0.976556</td>\n",
       "    </tr>\n",
       "  </tbody>\n",
       "</table>\n",
       "</div>"
      ],
      "text/plain": [
       "          Accuracy  Precision    Recall  F1 Score\n",
       "Macro     0.976843   0.751594  0.698547  0.718992\n",
       "Weighted  0.976843   0.977868  0.976843  0.976556"
      ]
     },
     "execution_count": 7,
     "metadata": {},
     "output_type": "execute_result"
    }
   ],
   "source": [
    "tester.generate_evaluation_metrics()"
   ]
  },
  {
   "cell_type": "code",
   "execution_count": 8,
   "id": "fc22112f-072d-4981-b363-4860458d3fb6",
   "metadata": {},
   "outputs": [
    {
     "data": {
      "image/png": "[encoded data removed]",
      "text/plain": [
       "<Figure size 500x400 with 2 Axes>"
      ]
     },
     "metadata": {},
     "output_type": "display_data"
    }
   ],
   "source": [
    "tester.generate_confusion_matrix()"
   ]
  },
  {
   "cell_type": "code",
   "execution_count": 9,
   "id": "598f5104-e02d-40c4-92cf-acdf27841b08",
   "metadata": {},
   "outputs": [
    {
     "data": {
      "text/plain": [
       "class\n",
       "4        15416\n",
       "3        10608\n",
       "2         2769\n",
       "1          765\n",
       "0           23\n",
       "Name: count, dtype: int64"
      ]
     },
     "execution_count": 9,
     "metadata": {},
     "output_type": "execute_result"
    }
   ],
   "source": [
    "y_test.value_counts()"
   ]
  },
  {
   "cell_type": "code",
   "execution_count": 10,
   "id": "fd9c1c3d-9622-4fe8-8acc-093fd9df40cd",
   "metadata": {},
   "outputs": [
    {
     "data": {
      "text/plain": [
       "Counter({4: 15460, 3: 10729, 2: 2799, 1: 500, 0: 93})"
      ]
     },
     "execution_count": 10,
     "metadata": {},
     "output_type": "execute_result"
    }
   ],
   "source": [
    "Counter(tester.preds)"
   ]
  }
 ],
 "metadata": {
  "kernelspec": {
   "display_name": "Python 3 (ipykernel)",
   "language": "python",
   "name": "python3"
  },
  "language_info": {
   "codemirror_mode": {
    "name": "ipython",
    "version": 3
   },
   "file_extension": ".py",
   "mimetype": "text/x-python",
   "name": "python",
   "nbconvert_exporter": "python",
   "pygments_lexer": "ipython3",
   "version": "3.11.9"
  },
  "widgets": {
   "application/vnd.jupyter.widget-state+json": {
    "state": {},
    "version_major": 2,
    "version_minor": 0
   }
  }
 },
 "nbformat": 4,
 "nbformat_minor": 5
}
